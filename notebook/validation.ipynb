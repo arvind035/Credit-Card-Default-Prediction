{
 "cells": [
  {
   "cell_type": "code",
   "execution_count": 1,
   "metadata": {},
   "outputs": [],
   "source": [
    "import os\n",
    "os.chdir('/home/mpokket/Documents/personal_data/project/Credit-Card-Default-Prediction')"
   ]
  },
  {
   "cell_type": "code",
   "execution_count": 2,
   "metadata": {},
   "outputs": [
    {
     "name": "stderr",
     "output_type": "stream",
     "text": [
      "/home/mpokket/Documents/personal_data/project/Credit-Card-Default-Prediction/credit_card_defaulter/util/util.py:30: YAMLLoadWarning: calling yaml.load() without Loader=... is deprecated, as the default Loader is unsafe. Please read https://msg.pyyaml.org/load for full details.\n",
      "  config_info = yaml.load(config_yaml_file)\n"
     ]
    },
    {
     "data": {
      "text/plain": [
       "DataValidationConfig(schema_file_path='/home/mpokket/Documents/personal_data/project/Credit-Card-Default-Prediction/config/schema.yaml', report_file_path='/home/mpokket/Documents/personal_data/project/Credit-Card-Default-Prediction/credit_card_defaulter/artifact/data_validation/2023-04-03-22-46-46/report.json', report_page_file_path='/home/mpokket/Documents/personal_data/project/Credit-Card-Default-Prediction/credit_card_defaulter/artifact/data_validation/2023-04-03-22-46-46/report.html')"
      ]
     },
     "execution_count": 2,
     "metadata": {},
     "output_type": "execute_result"
    }
   ],
   "source": [
    "from credit_card_defaulter.config.configuration import Configuration\n",
    "config_obj = Configuration()\n",
    "config_obj.get_data_ingestion_config()\n",
    "config_obj.get_data_validation_config()"
   ]
  },
  {
   "cell_type": "code",
   "execution_count": 3,
   "metadata": {},
   "outputs": [],
   "source": [
    "data = config_obj.get_data_validation_config()"
   ]
  },
  {
   "cell_type": "code",
   "execution_count": 4,
   "metadata": {},
   "outputs": [
    {
     "data": {
      "text/plain": [
       "'/home/mpokket/Documents/personal_data/project/Credit-Card-Default-Prediction/config/schema.yaml'"
      ]
     },
     "execution_count": 4,
     "metadata": {},
     "output_type": "execute_result"
    }
   ],
   "source": [
    "data.schema_file_path"
   ]
  },
  {
   "cell_type": "code",
   "execution_count": 5,
   "metadata": {},
   "outputs": [
    {
     "data": {
      "text/plain": [
       "DataIngestionArtifact(train_file_path='/home/mpokket/Documents/personal_data/project/Credit-Card-Default-Prediction/credit_card_defaulter/artifact/data_ingestion/2023-04-03-22-46-46/ingested_data/train/UCI_Credit_Card.csv', test_file_path='/home/mpokket/Documents/personal_data/project/Credit-Card-Default-Prediction/credit_card_defaulter/artifact/data_ingestion/2023-04-03-22-46-46/ingested_data/test/UCI_Credit_Card.csv', is_ingested=True, message='Data ingestion completed successfully.')"
      ]
     },
     "execution_count": 5,
     "metadata": {},
     "output_type": "execute_result"
    }
   ],
   "source": [
    "from credit_card_defaulter.component.data_ingestion import DataIngestion\n",
    "obj = DataIngestion(data_ingestion_config = config_obj.get_data_ingestion_config())\n",
    "obj.initiate_data_ingestion()"
   ]
  },
  {
   "cell_type": "code",
   "execution_count": 6,
   "metadata": {},
   "outputs": [
    {
     "name": "stderr",
     "output_type": "stream",
     "text": [
      "/home/mpokket/.local/lib/python3.8/site-packages/evidently/analyzers/__init__.py:3: UserWarning: analyzers are deprecated, use metrics instead\n",
      "  warnings.warn(\"analyzers are deprecated, use metrics instead\")\n",
      "/home/mpokket/.local/lib/python3.8/site-packages/evidently/model_profile/__init__.py:8: UserWarning: model profiles are deprecated, use metrics instead\n",
      "  warnings.warn(\"model profiles are deprecated, use metrics instead\")\n",
      "/home/mpokket/.local/lib/python3.8/site-packages/evidently/dashboard/__init__.py:8: UserWarning: dashboards are deprecated, use metrics instead\n",
      "  warnings.warn(\"dashboards are deprecated, use metrics instead\")\n"
     ]
    }
   ],
   "source": [
    "from credit_card_defaulter.component.data_validation import DataValidation \n",
    "val_obj= DataValidation(data_validation_config=config_obj.get_data_validation_config(), data_ingestion_artifact=obj.initiate_data_ingestion())"
   ]
  },
  {
   "cell_type": "code",
   "execution_count": 7,
   "metadata": {},
   "outputs": [
    {
     "data": {
      "text/plain": [
       "True"
      ]
     },
     "execution_count": 7,
     "metadata": {},
     "output_type": "execute_result"
    }
   ],
   "source": [
    "val_obj.is_train_test_file_exists()"
   ]
  },
  {
   "cell_type": "code",
   "execution_count": 8,
   "metadata": {},
   "outputs": [
    {
     "data": {
      "text/plain": [
       "(          ID  LIMIT_BAL  SEX  EDUCATION  MARRIAGE  AGE  PAY_0  PAY_2  PAY_3  \\\n",
       " 0      21754    80000.0    2          2         2   24      0      0      0   \n",
       " 1        252    30000.0    1          2         2   28      0      0      0   \n",
       " 2      22942   180000.0    2          5         1   44      0      0     -1   \n",
       " 3        619    60000.0    1          1         2   25      0      0      0   \n",
       " 4      17091   130000.0    2          2         2   25      0      0      0   \n",
       " ...      ...        ...  ...        ...       ...  ...    ...    ...    ...   \n",
       " 23995  29803    50000.0    1          2         2   32      0      0      0   \n",
       " 23996   5391   200000.0    1          1         2   37      2      2      2   \n",
       " 23997    861    50000.0    1          1         2   26     -2     -2     -2   \n",
       " 23998  15796    70000.0    2          2         2   25      0      0      0   \n",
       " 23999  23655   160000.0    2          2         1   36     -2     -2     -2   \n",
       " \n",
       "        PAY_4  ...  BILL_AMT4  BILL_AMT5  BILL_AMT6  PAY_AMT1  PAY_AMT2  \\\n",
       " 0          0  ...    73731.0    39643.0    39457.0    3503.0    5001.0   \n",
       " 1          0  ...    25255.0    22001.0        0.0    5006.0    1244.0   \n",
       " 2         -1  ...        0.0     6881.0    10340.0       0.0     850.0   \n",
       " 3          0  ...    39639.0    39619.0    39140.0    2018.0    1900.0   \n",
       " 4          0  ...   117823.0   120854.0   123904.0    4100.0    4200.0   \n",
       " ...      ...  ...        ...        ...        ...       ...       ...   \n",
       " 23995      0  ...    55957.0    29238.0     6119.0    2000.0    3000.0   \n",
       " 23996      2  ...   164182.0   169029.0   172084.0   13500.0    6000.0   \n",
       " 23997     -2  ...        0.0        0.0        0.0       0.0       0.0   \n",
       " 23998      0  ...    35122.0    28633.0    28039.0    3000.0    2000.0   \n",
       " 23999     -2  ...     2935.0     1603.0    14129.0       0.0    3660.0   \n",
       " \n",
       "        PAY_AMT3  PAY_AMT4  PAY_AMT5  PAY_AMT6  default.payment.next.month  \n",
       " 0        2092.0    1218.0    1445.0     878.0                           0  \n",
       " 1         851.0     955.0       0.0       0.0                           0  \n",
       " 2           0.0    6881.0   10340.0     182.0                           0  \n",
       " 3        2000.0    1500.0    1900.0    2000.0                           0  \n",
       " 4        5000.0    5000.0    5000.0   10700.0                           0  \n",
       " ...         ...       ...       ...       ...                         ...  \n",
       " 23995    1591.0      72.0    1134.0   73421.0                           0  \n",
       " 23996       0.0    7500.0    6000.0    4000.0                           1  \n",
       " 23997       0.0       0.0       0.0       0.0                           0  \n",
       " 23998    4500.0    1200.0       0.0    1200.0                           1  \n",
       " 23999    3135.0    1650.0   14200.0    1500.0                           1  \n",
       " \n",
       " [24000 rows x 25 columns],\n",
       "          ID  LIMIT_BAL  SEX  EDUCATION  MARRIAGE  AGE  PAY_0  PAY_2  PAY_3  \\\n",
       " 0      2309    30000.0    1          2         2   25      0      0      0   \n",
       " 1     22405   150000.0    2          1         2   26      0      0      0   \n",
       " 2     23398    70000.0    2          3         1   32      0      0      0   \n",
       " 3     25059   130000.0    1          3         2   49      0      0      0   \n",
       " 4      2665    50000.0    2          2         2   36      0      0      0   \n",
       " ...     ...        ...  ...        ...       ...  ...    ...    ...    ...   \n",
       " 5995   2211   360000.0    2          1         2   27      1     -2     -1   \n",
       " 5996  14145   500000.0    2          1         2   28      2      0      0   \n",
       " 5997  23109    60000.0    2          1         1   28      0      0      0   \n",
       " 5998  25704    20000.0    2          1         2   29      1     -1     -1   \n",
       " 5999  29172   510000.0    2          3         1   61      0      0      0   \n",
       " \n",
       "       PAY_4  ...  BILL_AMT4  BILL_AMT5  BILL_AMT6  PAY_AMT1  PAY_AMT2  \\\n",
       " 0         0  ...    12580.0    13716.0    14828.0    1500.0    2000.0   \n",
       " 1         0  ...   101581.0    77741.0    77264.0    4486.0    4235.0   \n",
       " 2         0  ...    69753.0    70111.0    70212.0    2431.0    3112.0   \n",
       " 3         0  ...    16898.0    11236.0     6944.0    1610.0    1808.0   \n",
       " 4         0  ...    19574.0    20295.0    19439.0    2000.0    1500.0   \n",
       " ...     ...  ...        ...        ...        ...       ...       ...   \n",
       " 5995     -1  ...        0.0     1271.0      179.0       0.0     830.0   \n",
       " 5996      2  ...    78070.0    78376.0    80912.0    6000.0   13151.0   \n",
       " 5997      0  ...    50385.0    52045.0    52661.0    2100.0    2500.0   \n",
       " 5998     -1  ...     1364.0      600.0        0.0    2494.0    3967.0   \n",
       " 5999      2  ...   181801.0   178179.0   223100.0    8500.0   17000.0   \n",
       " \n",
       "       PAY_AMT3  PAY_AMT4  PAY_AMT5  PAY_AMT6  default.payment.next.month  \n",
       " 0       1500.0    1500.0    1500.0    2000.0                           0  \n",
       " 1       3161.0    2647.0    2669.0    2669.0                           0  \n",
       " 2       3000.0    2438.0    2500.0    2554.0                           0  \n",
       " 3       7014.0      27.0    7011.0    4408.0                           0  \n",
       " 4       1000.0    1800.0       0.0    1000.0                           1  \n",
       " ...        ...       ...       ...       ...                         ...  \n",
       " 5995       0.0    1271.0     179.0    1970.0                           0  \n",
       " 5996       0.0    3000.0    5000.0   10000.0                           1  \n",
       " 5997    2500.0    2500.0    1600.0    1500.0                           0  \n",
       " 5998    1370.0     600.0       0.0       0.0                           0  \n",
       " 5999       0.0    6508.0   50000.0    7000.0                           0  \n",
       " \n",
       " [6000 rows x 25 columns])"
      ]
     },
     "execution_count": 8,
     "metadata": {},
     "output_type": "execute_result"
    }
   ],
   "source": [
    "# pip install evidently\n",
    "val_obj.get_train_and_test_df()"
   ]
  },
  {
   "cell_type": "code",
   "execution_count": 11,
   "metadata": {},
   "outputs": [],
   "source": [
    "train, test = val_obj.get_train_and_test_df()"
   ]
  },
  {
   "cell_type": "code",
   "execution_count": 12,
   "metadata": {},
   "outputs": [
    {
     "data": {
      "text/plain": [
       "(24000, 25)"
      ]
     },
     "execution_count": 12,
     "metadata": {},
     "output_type": "execute_result"
    }
   ],
   "source": [
    "train.shape"
   ]
  },
  {
   "cell_type": "code",
   "execution_count": 13,
   "metadata": {},
   "outputs": [
    {
     "data": {
      "text/plain": [
       "(6000, 25)"
      ]
     },
     "execution_count": 13,
     "metadata": {},
     "output_type": "execute_result"
    }
   ],
   "source": [
    "test.shape"
   ]
  },
  {
   "cell_type": "code",
   "execution_count": 14,
   "metadata": {},
   "outputs": [
    {
     "data": {
      "text/plain": [
       "True"
      ]
     },
     "execution_count": 14,
     "metadata": {},
     "output_type": "execute_result"
    }
   ],
   "source": [
    "val_obj.validate_dataset_schema()"
   ]
  },
  {
   "cell_type": "code",
   "execution_count": 15,
   "metadata": {},
   "outputs": [
    {
     "data": {
      "text/plain": [
       "DataValidationConfig(schema_file_path='/home/mpokket/Documents/personal_data/project/Credit-Card-Default-Prediction/config/schema.yaml', report_file_path='/home/mpokket/Documents/personal_data/project/Credit-Card-Default-Prediction/credit_card_defaulter/artifact/data_validation/2023-04-03-22-46-46/report.json', report_page_file_path='/home/mpokket/Documents/personal_data/project/Credit-Card-Default-Prediction/credit_card_defaulter/artifact/data_validation/2023-04-03-22-46-46/report.html')"
      ]
     },
     "execution_count": 15,
     "metadata": {},
     "output_type": "execute_result"
    }
   ],
   "source": [
    "val_obj.get_and_save_data_drift_report()"
   ]
  },
  {
   "cell_type": "code",
   "execution_count": 14,
   "metadata": {},
   "outputs": [
    {
     "name": "stderr",
     "output_type": "stream",
     "text": [
      "/home/mpokket/Documents/personal_data/project/Credit-Card-Default-Prediction/credit_card_defaulter/util/util.py:30: YAMLLoadWarning:\n",
      "\n",
      "calling yaml.load() without Loader=... is deprecated, as the default Loader is unsafe. Please read https://msg.pyyaml.org/load for full details.\n",
      "\n"
     ]
    }
   ],
   "source": [
    "val_obj.save_data_drift_report_page()"
   ]
  },
  {
   "cell_type": "code",
   "execution_count": 15,
   "metadata": {},
   "outputs": [
    {
     "data": {
      "text/plain": [
       "True"
      ]
     },
     "execution_count": 15,
     "metadata": {},
     "output_type": "execute_result"
    }
   ],
   "source": [
    "val_obj.is_data_drift_found()"
   ]
  },
  {
   "cell_type": "code",
   "execution_count": 16,
   "metadata": {},
   "outputs": [
    {
     "data": {
      "text/plain": [
       "DataValidationArtifact(schema_file_path='/home/mpokket/Documents/personal_data/project/Credit-Card-Default-Prediction/config/schema.yaml', report_file_path='/home/mpokket/Documents/personal_data/project/Credit-Card-Default-Prediction/credit_card_defaulter/artifact/data_validation/2023-04-03-22-39-25/report.json', report_page_file_path='/home/mpokket/Documents/personal_data/project/Credit-Card-Default-Prediction/credit_card_defaulter/artifact/data_validation/2023-04-03-22-39-25/report.html', is_validated=True, message='Data Validation performed successully.')"
      ]
     },
     "execution_count": 16,
     "metadata": {},
     "output_type": "execute_result"
    }
   ],
   "source": [
    "val_obj.initiate_data_validation()"
   ]
  },
  {
   "cell_type": "code",
   "execution_count": null,
   "metadata": {},
   "outputs": [],
   "source": []
  }
 ],
 "metadata": {
  "kernelspec": {
   "display_name": "Python 3",
   "language": "python",
   "name": "python3"
  },
  "language_info": {
   "codemirror_mode": {
    "name": "ipython",
    "version": 3
   },
   "file_extension": ".py",
   "mimetype": "text/x-python",
   "name": "python",
   "nbconvert_exporter": "python",
   "pygments_lexer": "ipython3",
   "version": "3.8.10"
  },
  "orig_nbformat": 4
 },
 "nbformat": 4,
 "nbformat_minor": 2
}
