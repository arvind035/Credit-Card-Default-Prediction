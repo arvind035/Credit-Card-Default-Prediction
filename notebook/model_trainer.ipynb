{
 "cells": [
  {
   "cell_type": "code",
   "execution_count": 17,
   "metadata": {},
   "outputs": [],
   "source": [
    "import os\n",
    "os.chdir('/home/mpokket/Documents/personal_data/project/Credit-Card-Default-Prediction')"
   ]
  },
  {
   "cell_type": "code",
   "execution_count": 18,
   "metadata": {},
   "outputs": [
    {
     "name": "stderr",
     "output_type": "stream",
     "text": [
      "/home/mpokket/Documents/personal_data/project/Credit-Card-Default-Prediction/credit_card_defaulter/util/util.py:30: YAMLLoadWarning:\n",
      "\n",
      "calling yaml.load() without Loader=... is deprecated, as the default Loader is unsafe. Please read https://msg.pyyaml.org/load for full details.\n",
      "\n"
     ]
    }
   ],
   "source": [
    "from credit_card_defaulter.config.configuration import Configuration\n",
    "con = Configuration()"
   ]
  },
  {
   "cell_type": "code",
   "execution_count": 19,
   "metadata": {},
   "outputs": [
    {
     "data": {
      "text/plain": [
       "DataIngestionArtifact(train_file_path='/home/mpokket/Documents/personal_data/project/Credit-Card-Default-Prediction/credit_card_defaulter/artifact/data_ingestion/2023-04-15-22-30-31/ingested_data/train/UCI_Credit_Card.csv', test_file_path='/home/mpokket/Documents/personal_data/project/Credit-Card-Default-Prediction/credit_card_defaulter/artifact/data_ingestion/2023-04-15-22-30-31/ingested_data/test/UCI_Credit_Card.csv', is_ingested=True, message='Data ingestion completed successfully.')"
      ]
     },
     "execution_count": 19,
     "metadata": {},
     "output_type": "execute_result"
    }
   ],
   "source": [
    "from credit_card_defaulter.component.data_ingestion import DataIngestion\n",
    "obj = DataIngestion(data_ingestion_config = con.get_data_ingestion_config())\n",
    "obj.initiate_data_ingestion()"
   ]
  },
  {
   "cell_type": "code",
   "execution_count": 20,
   "metadata": {},
   "outputs": [],
   "source": [
    "from credit_card_defaulter.component.data_validation import DataValidation \n",
    "val_obj= DataValidation(data_validation_config=con.get_data_validation_config(), data_ingestion_artifact=obj.initiate_data_ingestion())"
   ]
  },
  {
   "cell_type": "code",
   "execution_count": 21,
   "metadata": {},
   "outputs": [],
   "source": [
    "from credit_card_defaulter.component.data_transformation import DataTransformation,EduMarColTransformation\n",
    "trans = DataTransformation(data_transformation_config = con.get_data_transformation_config(),\n",
    "data_ingestion_artifact = obj.initiate_data_ingestion(),data_validation_artifact=val_obj.initiate_data_validation())"
   ]
  },
  {
   "cell_type": "code",
   "execution_count": 22,
   "metadata": {},
   "outputs": [],
   "source": [
    "from credit_card_defaulter.component.model_trainer import ModelTrainer\n",
    "model = ModelTrainer(model_trainer_config=con.get_model_trainer_config(), data_transformation_artifact=trans.initiate_data_transformation())"
   ]
  },
  {
   "cell_type": "code",
   "execution_count": 23,
   "metadata": {},
   "outputs": [
    {
     "data": {
      "text/plain": [
       "ModelTrainerConfig(trained_model_file_path='/home/mpokket/Documents/personal_data/project/Credit-Card-Default-Prediction/credit_card_defaulter/artifact/model_trainer/2023-04-15-22-30-31/trained_model/model.pkl', base_accuracy=0.6, model_config_file_path='config/model.yaml')"
      ]
     },
     "execution_count": 23,
     "metadata": {},
     "output_type": "execute_result"
    }
   ],
   "source": [
    "model.model_trainer_config"
   ]
  },
  {
   "cell_type": "code",
   "execution_count": 24,
   "metadata": {},
   "outputs": [
    {
     "name": "stdout",
     "output_type": "stream",
     "text": [
      "{'dual': False, 'penalty': 'l2'}\n",
      "{'cv': 5, 'verbose': 2}\n",
      "Fitting 5 folds for each of 2 candidates, totalling 10 fits\n",
      "[CV] END .................................fit_intercept=True; total time=   0.1s\n",
      "[CV] END .................................fit_intercept=True; total time=   0.1s\n",
      "[CV] END .................................fit_intercept=True; total time=   0.1s\n",
      "[CV] END .................................fit_intercept=True; total time=   0.1s\n",
      "[CV] END .................................fit_intercept=True; total time=   0.1s\n",
      "[CV] END ................................fit_intercept=False; total time=   0.1s\n",
      "[CV] END ................................fit_intercept=False; total time=   0.1s\n",
      "[CV] END ................................fit_intercept=False; total time=   0.1s\n",
      "[CV] END ................................fit_intercept=False; total time=   0.1s\n",
      "[CV] END ................................fit_intercept=False; total time=   0.1s\n"
     ]
    },
    {
     "data": {
      "text/plain": [
       "ModelTrainerArtifact(is_trained=True, message='Model Trained successfully', trained_model_file_path='/home/mpokket/Documents/personal_data/project/Credit-Card-Default-Prediction/credit_card_defaulter/artifact/model_trainer/2023-04-15-22-30-31/trained_model/model.pkl', train_rmse=0.43507662160436367, test_rmse=0.4360810322252811, train_accuracy=0.8107083333333334, test_accuracy=0.8098333333333333, model_accuracy=0.8102705971083057)"
      ]
     },
     "execution_count": 24,
     "metadata": {},
     "output_type": "execute_result"
    }
   ],
   "source": [
    "model.initiate_model_trainer()"
   ]
  },
  {
   "cell_type": "code",
   "execution_count": null,
   "metadata": {},
   "outputs": [],
   "source": []
  }
 ],
 "metadata": {
  "kernelspec": {
   "display_name": "Python 3",
   "language": "python",
   "name": "python3"
  },
  "language_info": {
   "codemirror_mode": {
    "name": "ipython",
    "version": 3
   },
   "file_extension": ".py",
   "mimetype": "text/x-python",
   "name": "python",
   "nbconvert_exporter": "python",
   "pygments_lexer": "ipython3",
   "version": "3.8.10"
  },
  "orig_nbformat": 4
 },
 "nbformat": 4,
 "nbformat_minor": 2
}
