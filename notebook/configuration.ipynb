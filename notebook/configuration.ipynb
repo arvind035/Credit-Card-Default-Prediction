{
 "cells": [
  {
   "cell_type": "code",
   "execution_count": 13,
   "metadata": {},
   "outputs": [],
   "source": [
    "import os\n",
    "os.chdir('/home/mpokket/Documents/personal_data/project/Credit-Card-Default-Prediction')"
   ]
  },
  {
   "cell_type": "code",
   "execution_count": 14,
   "metadata": {},
   "outputs": [],
   "source": [
    "from credit_card_defaulter.config.configuration import Configuration"
   ]
  },
  {
   "cell_type": "code",
   "execution_count": 15,
   "metadata": {},
   "outputs": [
    {
     "name": "stderr",
     "output_type": "stream",
     "text": [
      "/home/mpokket/Documents/personal_data/project/Credit-Card-Default-Prediction/credit_card_defaulter/util/util.py:30: YAMLLoadWarning: calling yaml.load() without Loader=... is deprecated, as the default Loader is unsafe. Please read https://msg.pyyaml.org/load for full details.\n",
      "  config_info = yaml.load(config_yaml_file)\n"
     ]
    }
   ],
   "source": [
    "config_obj = Configuration()"
   ]
  },
  {
   "cell_type": "code",
   "execution_count": 16,
   "metadata": {},
   "outputs": [
    {
     "data": {
      "text/plain": [
       "DataIngestionConfig(dataset_url='/home/mpokket/Documents/personal_data/project/UCI_Credit_Card.zip', tgz_dir='/home/mpokket/Documents/personal_data/project/Credit-Card-Default-Prediction/credit_card_defaulter/artifact/data_ingestion/2023-04-03-22-35-46/tgz_dir', raw_data_dir='/home/mpokket/Documents/personal_data/project/Credit-Card-Default-Prediction/credit_card_defaulter/artifact/data_ingestion/2023-04-03-22-35-46/raw_data', ingested_train_dir='/home/mpokket/Documents/personal_data/project/Credit-Card-Default-Prediction/credit_card_defaulter/artifact/data_ingestion/2023-04-03-22-35-46/ingested_data/train', ingested_test_dir='/home/mpokket/Documents/personal_data/project/Credit-Card-Default-Prediction/credit_card_defaulter/artifact/data_ingestion/2023-04-03-22-35-46/ingested_data/test')"
      ]
     },
     "execution_count": 16,
     "metadata": {},
     "output_type": "execute_result"
    }
   ],
   "source": [
    "config_obj.get_data_ingestion_config()"
   ]
  },
  {
   "cell_type": "code",
   "execution_count": 17,
   "metadata": {},
   "outputs": [
    {
     "data": {
      "text/plain": [
       "DataValidationConfig(schema_file_path='/home/mpokket/Documents/personal_data/project/Credit-Card-Default-Prediction/config/schema.yaml', report_file_path='/home/mpokket/Documents/personal_data/project/Credit-Card-Default-Prediction/credit_card_defaulter/artifact/data_validation/2023-04-03-22-35-46/report.json', report_page_file_path='/home/mpokket/Documents/personal_data/project/Credit-Card-Default-Prediction/credit_card_defaulter/artifact/data_validation/2023-04-03-22-35-46/report.html')"
      ]
     },
     "execution_count": 17,
     "metadata": {},
     "output_type": "execute_result"
    }
   ],
   "source": [
    "config_obj.get_data_validation_config()"
   ]
  },
  {
   "cell_type": "code",
   "execution_count": 18,
   "metadata": {},
   "outputs": [
    {
     "data": {
      "text/plain": [
       "DataTransformationConfig(transformed_train_dir='/home/mpokket/Documents/personal_data/project/Credit-Card-Default-Prediction/credit_card_defaulter/artifact/data_transformation/2023-04-03-22-35-46/transformed_data/train', transformed_test_dir='/home/mpokket/Documents/personal_data/project/Credit-Card-Default-Prediction/credit_card_defaulter/artifact/data_transformation/2023-04-03-22-35-46/transformed_data/test', preprocessed_object_file_path='/home/mpokket/Documents/personal_data/project/Credit-Card-Default-Prediction/credit_card_defaulter/artifact/data_transformation/2023-04-03-22-35-46/preprocessed/preprocessed.pkl')"
      ]
     },
     "execution_count": 18,
     "metadata": {},
     "output_type": "execute_result"
    }
   ],
   "source": [
    "config_obj.get_data_transformation_config()"
   ]
  },
  {
   "cell_type": "code",
   "execution_count": 19,
   "metadata": {},
   "outputs": [
    {
     "data": {
      "text/plain": [
       "ModelTrainerConfig(trained_model_file_path='/home/mpokket/Documents/personal_data/project/Credit-Card-Default-Prediction/credit_card_defaulter/artifact/model_trainer/2023-04-03-22-35-46/trained_model/model.pkl', base_accuracy=0.0, model_config_file_path='config/model.yaml')"
      ]
     },
     "execution_count": 19,
     "metadata": {},
     "output_type": "execute_result"
    }
   ],
   "source": [
    "config_obj.get_model_trainer_config()"
   ]
  },
  {
   "cell_type": "code",
   "execution_count": 20,
   "metadata": {},
   "outputs": [
    {
     "data": {
      "text/plain": [
       "ModelEvaluationConfig(model_evaluation_file_path='/home/mpokket/Documents/personal_data/project/Credit-Card-Default-Prediction/credit_card_defaulter/artifact/model_evaluation/model_evaluation.yaml', time_stamp='2023-04-03-22-35-46')"
      ]
     },
     "execution_count": 20,
     "metadata": {},
     "output_type": "execute_result"
    }
   ],
   "source": [
    "config_obj.get_model_evaluation_config()"
   ]
  },
  {
   "cell_type": "code",
   "execution_count": 21,
   "metadata": {},
   "outputs": [
    {
     "data": {
      "text/plain": [
       "ModelPusherConfig(export_dir_path='/home/mpokket/Documents/personal_data/project/Credit-Card-Default-Prediction/saved_models/20230403223636')"
      ]
     },
     "execution_count": 21,
     "metadata": {},
     "output_type": "execute_result"
    }
   ],
   "source": [
    "config_obj.get_model_pusher_config()"
   ]
  },
  {
   "cell_type": "code",
   "execution_count": 22,
   "metadata": {},
   "outputs": [],
   "source": [
    "from credit_card_defaulter.component.data_ingestion import DataIngestion\n",
    "obj = DataIngestion(data_ingestion_config = config_obj.get_data_ingestion_config())"
   ]
  },
  {
   "cell_type": "code",
   "execution_count": 23,
   "metadata": {},
   "outputs": [
    {
     "data": {
      "text/plain": [
       "'/home/mpokket/Documents/personal_data/project/Credit-Card-Default-Prediction/credit_card_defaulter/artifact/data_ingestion/2023-04-03-22-35-46/ingested_data/train'"
      ]
     },
     "execution_count": 23,
     "metadata": {},
     "output_type": "execute_result"
    }
   ],
   "source": [
    "obj.data_ingestion_config.ingested_train_dir"
   ]
  },
  {
   "cell_type": "code",
   "execution_count": 24,
   "metadata": {},
   "outputs": [],
   "source": [
    "from collections import namedtuple"
   ]
  },
  {
   "cell_type": "code",
   "execution_count": 26,
   "metadata": {},
   "outputs": [],
   "source": [
    "from credit_card_defaulter.pipeline.pipeline import Pipeline"
   ]
  },
  {
   "cell_type": "code",
   "execution_count": 28,
   "metadata": {},
   "outputs": [],
   "source": [
    "hi = Pipeline(config_obj)"
   ]
  },
  {
   "cell_type": "code",
   "execution_count": 29,
   "metadata": {},
   "outputs": [
    {
     "data": {
      "text/plain": [
       "DataIngestionArtifact(train_file_path='/home/mpokket/Documents/personal_data/project/Credit-Card-Default-Prediction/credit_card_defaulter/artifact/data_ingestion/2023-04-03-22-35-46/ingested_data/train/UCI_Credit_Card.csv', test_file_path='/home/mpokket/Documents/personal_data/project/Credit-Card-Default-Prediction/credit_card_defaulter/artifact/data_ingestion/2023-04-03-22-35-46/ingested_data/test/UCI_Credit_Card.csv', is_ingested=True, message='Data ingestion completed successfully.')"
      ]
     },
     "execution_count": 29,
     "metadata": {},
     "output_type": "execute_result"
    }
   ],
   "source": [
    "hi.strat_data_ingestion()"
   ]
  },
  {
   "cell_type": "code",
   "execution_count": 30,
   "metadata": {},
   "outputs": [
    {
     "data": {
      "text/plain": [
       "DataIngestionConfig(dataset_url='/home/mpokket/Documents/personal_data/project/UCI_Credit_Card.zip', tgz_dir='/home/mpokket/Documents/personal_data/project/Credit-Card-Default-Prediction/credit_card_defaulter/artifact/data_ingestion/2023-04-03-22-35-46/tgz_dir', raw_data_dir='/home/mpokket/Documents/personal_data/project/Credit-Card-Default-Prediction/credit_card_defaulter/artifact/data_ingestion/2023-04-03-22-35-46/raw_data', ingested_train_dir='/home/mpokket/Documents/personal_data/project/Credit-Card-Default-Prediction/credit_card_defaulter/artifact/data_ingestion/2023-04-03-22-35-46/ingested_data/train', ingested_test_dir='/home/mpokket/Documents/personal_data/project/Credit-Card-Default-Prediction/credit_card_defaulter/artifact/data_ingestion/2023-04-03-22-35-46/ingested_data/test')"
      ]
     },
     "execution_count": 30,
     "metadata": {},
     "output_type": "execute_result"
    }
   ],
   "source": [
    "hi.config.get_data_ingestion_config()"
   ]
  },
  {
   "cell_type": "code",
   "execution_count": 31,
   "metadata": {},
   "outputs": [
    {
     "data": {
      "text/plain": [
       "'/home/mpokket/Documents/personal_data/project/Credit-Card-Default-Prediction'"
      ]
     },
     "execution_count": 31,
     "metadata": {},
     "output_type": "execute_result"
    }
   ],
   "source": [
    "os.getcwd()"
   ]
  },
  {
   "cell_type": "code",
   "execution_count": 4,
   "metadata": {},
   "outputs": [
    {
     "data": {
      "text/plain": [
       "'/home/mpokket/Documents/personal_data/project/Credit-Card-Default-Prediction'"
      ]
     },
     "execution_count": 4,
     "metadata": {},
     "output_type": "execute_result"
    }
   ],
   "source": [
    "os.getcwd()"
   ]
  },
  {
   "cell_type": "code",
   "execution_count": 32,
   "metadata": {},
   "outputs": [],
   "source": [
    "config_file_path = os.path.join('config', 'config.yaml')"
   ]
  },
  {
   "cell_type": "code",
   "execution_count": 33,
   "metadata": {},
   "outputs": [
    {
     "data": {
      "text/plain": [
       "'config/config.yaml'"
      ]
     },
     "execution_count": 33,
     "metadata": {},
     "output_type": "execute_result"
    }
   ],
   "source": [
    "config_file_path"
   ]
  },
  {
   "cell_type": "code",
   "execution_count": 34,
   "metadata": {},
   "outputs": [
    {
     "data": {
      "text/plain": [
       "True"
      ]
     },
     "execution_count": 34,
     "metadata": {},
     "output_type": "execute_result"
    }
   ],
   "source": [
    "os.path.exists(config_file_path)"
   ]
  },
  {
   "cell_type": "code",
   "execution_count": 35,
   "metadata": {},
   "outputs": [],
   "source": [
    "import yaml"
   ]
  },
  {
   "cell_type": "code",
   "execution_count": 36,
   "metadata": {},
   "outputs": [
    {
     "name": "stderr",
     "output_type": "stream",
     "text": [
      "/tmp/ipykernel_211220/1369718657.py:3: YAMLLoadWarning: calling yaml.load() without Loader=... is deprecated, as the default Loader is unsafe. Please read https://msg.pyyaml.org/load for full details.\n",
      "  config_info = yaml.load(config_yaml_file)\n"
     ]
    }
   ],
   "source": [
    "config_info = None\n",
    "with open(config_file_path, 'rb') as config_yaml_file:\n",
    "    config_info = yaml.load(config_yaml_file)"
   ]
  },
  {
   "cell_type": "code",
   "execution_count": 37,
   "metadata": {},
   "outputs": [
    {
     "name": "stderr",
     "output_type": "stream",
     "text": [
      "/home/mpokket/Documents/personal_data/project/Credit-Card-Default-Prediction/credit_card_defaulter/util/util.py:30: YAMLLoadWarning: calling yaml.load() without Loader=... is deprecated, as the default Loader is unsafe. Please read https://msg.pyyaml.org/load for full details.\n",
      "  config_info = yaml.load(config_yaml_file)\n"
     ]
    },
    {
     "data": {
      "text/plain": [
       "{'dataset_url': '/home/mpokket/Documents/personal_data/project/UCI_Credit_Card.zip',\n",
       " 'raw_data_dir': 'raw_data',\n",
       " 'tgz_dir': 'tgz_dir',\n",
       " 'ingested_dir': 'ingested_data',\n",
       " 'ingested_train_dir': 'train',\n",
       " 'ingested_test_dir': 'test'}"
      ]
     },
     "execution_count": 37,
     "metadata": {},
     "output_type": "execute_result"
    }
   ],
   "source": [
    "from credit_card_defaulter.util.util import read_yaml_file\n",
    "data = read_yaml_file(config_file_path)\n",
    "data['data_ingestion_config']"
   ]
  },
  {
   "cell_type": "code",
   "execution_count": 38,
   "metadata": {},
   "outputs": [
    {
     "data": {
      "text/plain": [
       "{'dataset_url': '/home/mpokket/Documents/personal_data/project/UCI_Credit_Card.zip',\n",
       " 'raw_data_dir': 'raw_data',\n",
       " 'tgz_dir': 'tgz_dir',\n",
       " 'ingested_dir': 'ingested_data',\n",
       " 'ingested_train_dir': 'train',\n",
       " 'ingested_test_dir': 'test'}"
      ]
     },
     "execution_count": 38,
     "metadata": {},
     "output_type": "execute_result"
    }
   ],
   "source": [
    "config_info['data_ingestion_config']"
   ]
  },
  {
   "cell_type": "code",
   "execution_count": 21,
   "metadata": {},
   "outputs": [],
   "source": [
    "import pandas as pd\n",
    "data = pd.read_csv(config_info['data_ingestion_config']['dataset_url'])"
   ]
  },
  {
   "cell_type": "code",
   "execution_count": 1,
   "metadata": {},
   "outputs": [],
   "source": [
    "import os\n",
    "os.chdir('/home/mpokket/Documents/personal_data/project/Credit-Card-Default-Prediction')"
   ]
  },
  {
   "cell_type": "code",
   "execution_count": null,
   "metadata": {},
   "outputs": [],
   "source": []
  }
 ],
 "metadata": {
  "kernelspec": {
   "display_name": "Python 3",
   "language": "python",
   "name": "python3"
  },
  "language_info": {
   "codemirror_mode": {
    "name": "ipython",
    "version": 3
   },
   "file_extension": ".py",
   "mimetype": "text/x-python",
   "name": "python",
   "nbconvert_exporter": "python",
   "pygments_lexer": "ipython3",
   "version": "3.8.10"
  },
  "orig_nbformat": 4
 },
 "nbformat": 4,
 "nbformat_minor": 2
}
