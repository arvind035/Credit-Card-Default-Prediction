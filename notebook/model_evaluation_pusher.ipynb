{
 "cells": [
  {
   "cell_type": "code",
   "execution_count": 1,
   "metadata": {},
   "outputs": [],
   "source": [
    "import os\n",
    "os.chdir('/home/mpokket/Documents/personal_data/project/Credit-Card-Default-Prediction')"
   ]
  },
  {
   "cell_type": "code",
   "execution_count": 2,
   "metadata": {},
   "outputs": [
    {
     "name": "stderr",
     "output_type": "stream",
     "text": [
      "/home/mpokket/Documents/personal_data/project/Credit-Card-Default-Prediction/credit_card_defaulter/util/util.py:30: YAMLLoadWarning: calling yaml.load() without Loader=... is deprecated, as the default Loader is unsafe. Please read https://msg.pyyaml.org/load for full details.\n",
      "  config_info = yaml.load(config_yaml_file)\n"
     ]
    }
   ],
   "source": [
    "from credit_card_defaulter.config.configuration import Configuration\n",
    "con = Configuration()"
   ]
  },
  {
   "cell_type": "code",
   "execution_count": 3,
   "metadata": {},
   "outputs": [
    {
     "data": {
      "text/plain": [
       "DataIngestionArtifact(train_file_path='/home/mpokket/Documents/personal_data/project/Credit-Card-Default-Prediction/credit_card_defaulter/artifact/data_ingestion/2023-04-16-21-56-07/ingested_data/train/UCI_Credit_Card.csv', test_file_path='/home/mpokket/Documents/personal_data/project/Credit-Card-Default-Prediction/credit_card_defaulter/artifact/data_ingestion/2023-04-16-21-56-07/ingested_data/test/UCI_Credit_Card.csv', is_ingested=True, message='Data ingestion completed successfully.')"
      ]
     },
     "execution_count": 3,
     "metadata": {},
     "output_type": "execute_result"
    }
   ],
   "source": [
    "from credit_card_defaulter.component.data_ingestion import DataIngestion\n",
    "obj = DataIngestion(data_ingestion_config = con.get_data_ingestion_config())\n",
    "obj.initiate_data_ingestion()"
   ]
  },
  {
   "cell_type": "code",
   "execution_count": 4,
   "metadata": {},
   "outputs": [
    {
     "name": "stderr",
     "output_type": "stream",
     "text": [
      "/home/mpokket/.local/lib/python3.8/site-packages/evidently/analyzers/__init__.py:3: UserWarning: analyzers are deprecated, use metrics instead\n",
      "  warnings.warn(\"analyzers are deprecated, use metrics instead\")\n",
      "/home/mpokket/.local/lib/python3.8/site-packages/evidently/model_profile/__init__.py:8: UserWarning: model profiles are deprecated, use metrics instead\n",
      "  warnings.warn(\"model profiles are deprecated, use metrics instead\")\n",
      "/home/mpokket/.local/lib/python3.8/site-packages/evidently/dashboard/__init__.py:8: UserWarning: dashboards are deprecated, use metrics instead\n",
      "  warnings.warn(\"dashboards are deprecated, use metrics instead\")\n"
     ]
    }
   ],
   "source": [
    "from credit_card_defaulter.component.data_validation import DataValidation \n",
    "val_obj= DataValidation(data_validation_config=con.get_data_validation_config(), data_ingestion_artifact=obj.initiate_data_ingestion())"
   ]
  },
  {
   "cell_type": "code",
   "execution_count": 5,
   "metadata": {},
   "outputs": [
    {
     "name": "stderr",
     "output_type": "stream",
     "text": [
      "/home/mpokket/Documents/personal_data/project/Credit-Card-Default-Prediction/credit_card_defaulter/util/util.py:30: YAMLLoadWarning:\n",
      "\n",
      "calling yaml.load() without Loader=... is deprecated, as the default Loader is unsafe. Please read https://msg.pyyaml.org/load for full details.\n",
      "\n"
     ]
    }
   ],
   "source": [
    "from credit_card_defaulter.component.data_transformation import DataTransformation,EduMarColTransformation\n",
    "trans = DataTransformation(data_transformation_config = con.get_data_transformation_config(),\n",
    "data_ingestion_artifact = obj.initiate_data_ingestion(),data_validation_artifact=val_obj.initiate_data_validation())"
   ]
  },
  {
   "cell_type": "code",
   "execution_count": 6,
   "metadata": {},
   "outputs": [],
   "source": [
    "from credit_card_defaulter.component.model_trainer import ModelTrainer\n",
    "model = ModelTrainer(model_trainer_config=con.get_model_trainer_config(), data_transformation_artifact=trans.initiate_data_transformation())"
   ]
  },
  {
   "cell_type": "code",
   "execution_count": 7,
   "metadata": {},
   "outputs": [
    {
     "name": "stderr",
     "output_type": "stream",
     "text": [
      "/home/mpokket/Documents/personal_data/project/Credit-Card-Default-Prediction/credit_card_defaulter/util/util.py:30: YAMLLoadWarning:\n",
      "\n",
      "calling yaml.load() without Loader=... is deprecated, as the default Loader is unsafe. Please read https://msg.pyyaml.org/load for full details.\n",
      "\n"
     ]
    },
    {
     "name": "stdout",
     "output_type": "stream",
     "text": [
      "{'dual': False, 'penalty': 'l2'}\n",
      "{'cv': 5, 'verbose': 2}\n",
      "Fitting 5 folds for each of 2 candidates, totalling 10 fits\n",
      "[CV] END .................................fit_intercept=True; total time=   0.1s\n",
      "[CV] END .................................fit_intercept=True; total time=   0.1s\n",
      "[CV] END .................................fit_intercept=True; total time=   0.2s\n",
      "[CV] END .................................fit_intercept=True; total time=   0.1s\n",
      "[CV] END .................................fit_intercept=True; total time=   0.1s\n",
      "[CV] END ................................fit_intercept=False; total time=   0.1s\n",
      "[CV] END ................................fit_intercept=False; total time=   0.1s\n",
      "[CV] END ................................fit_intercept=False; total time=   0.1s\n",
      "[CV] END ................................fit_intercept=False; total time=   0.1s\n",
      "[CV] END ................................fit_intercept=False; total time=   0.1s\n"
     ]
    }
   ],
   "source": [
    "from credit_card_defaulter.component.model_evaluation import ModelEvaluation\n",
    "evaluate = ModelEvaluation(model_evaluation_config=con.get_model_evaluation_config(), data_ingestion_artifact=obj.initiate_data_ingestion(),data_validation_artifact= val_obj.initiate_data_validation(), model_trainer_artifact = model.initiate_model_trainer())"
   ]
  },
  {
   "cell_type": "code",
   "execution_count": 8,
   "metadata": {},
   "outputs": [
    {
     "name": "stderr",
     "output_type": "stream",
     "text": [
      "/home/mpokket/Documents/personal_data/project/Credit-Card-Default-Prediction/credit_card_defaulter/util/util.py:30: YAMLLoadWarning:\n",
      "\n",
      "calling yaml.load() without Loader=... is deprecated, as the default Loader is unsafe. Please read https://msg.pyyaml.org/load for full details.\n",
      "\n"
     ]
    },
    {
     "data": {
      "text/plain": [
       "ModelEvaluationArtifact(is_model_accepted=False, evaluated_model_path='/home/mpokket/Documents/personal_data/project/Credit-Card-Default-Prediction/credit_card_defaulter/artifact/model_trainer/2023-04-16-21-56-07/trained_model/model.pkl')"
      ]
     },
     "execution_count": 8,
     "metadata": {},
     "output_type": "execute_result"
    }
   ],
   "source": [
    "evaluate.initiate_model_evaluation()"
   ]
  },
  {
   "cell_type": "code",
   "execution_count": 9,
   "metadata": {},
   "outputs": [
    {
     "name": "stderr",
     "output_type": "stream",
     "text": [
      "/home/mpokket/Documents/personal_data/project/Credit-Card-Default-Prediction/credit_card_defaulter/util/util.py:30: YAMLLoadWarning:\n",
      "\n",
      "calling yaml.load() without Loader=... is deprecated, as the default Loader is unsafe. Please read https://msg.pyyaml.org/load for full details.\n",
      "\n"
     ]
    }
   ],
   "source": [
    "from credit_card_defaulter.component.model_pusher import ModelPusher\n",
    "pusher = ModelPusher(model_pusher_config=con.get_model_pusher_config(), model_evaluation_artifact=evaluate.initiate_model_evaluation())"
   ]
  },
  {
   "cell_type": "code",
   "execution_count": 11,
   "metadata": {},
   "outputs": [
    {
     "data": {
      "text/plain": [
       "ModelPusherArtifact(is_model_pusher=True, export_model_file_path='/home/mpokket/Documents/personal_data/project/Credit-Card-Default-Prediction/saved_models/20230416215655/model.pkl')"
      ]
     },
     "execution_count": 11,
     "metadata": {},
     "output_type": "execute_result"
    }
   ],
   "source": [
    "pusher.initiate_model_pusher()"
   ]
  },
  {
   "cell_type": "code",
   "execution_count": null,
   "metadata": {},
   "outputs": [],
   "source": []
  }
 ],
 "metadata": {
  "kernelspec": {
   "display_name": "Python 3",
   "language": "python",
   "name": "python3"
  },
  "language_info": {
   "codemirror_mode": {
    "name": "ipython",
    "version": 3
   },
   "file_extension": ".py",
   "mimetype": "text/x-python",
   "name": "python",
   "nbconvert_exporter": "python",
   "pygments_lexer": "ipython3",
   "version": "3.8.10"
  },
  "orig_nbformat": 4,
  "vscode": {
   "interpreter": {
    "hash": "916dbcbb3f70747c44a77c7bcd40155683ae19c65e1c03b4aa3499c5328201f1"
   }
  }
 },
 "nbformat": 4,
 "nbformat_minor": 2
}
